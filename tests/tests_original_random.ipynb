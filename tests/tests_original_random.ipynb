{
 "cells": [
  {
   "cell_type": "code",
   "execution_count": 1,
   "metadata": {},
   "outputs": [],
   "source": [
    "import sys\n",
    "import os\n",
    "  \n",
    "# getting the name of the directory\n",
    "# where the this file is present.\n",
    "current = os.path.abspath('')\n",
    "# Getting the parent directory name\n",
    "# where the current directory is present.\n",
    "parent = os.path.dirname(current)\n",
    "sys.path.append(parent)\n",
    "from parameters import *"
   ]
  },
  {
   "cell_type": "markdown",
   "metadata": {},
   "source": [
    "### Generate regular random input for each matrix of size between 2 -- 512\n"
   ]
  },
  {
   "cell_type": "code",
   "execution_count": 2,
   "metadata": {},
   "outputs": [],
   "source": [
    "def get_input_range(n):\n",
    "    lower_bound = 0\n",
    "    upper_bound = round(np.sqrt(2**(53)/n))\n",
    "    input_range = [lower_bound, upper_bound]\n",
    "    return input_range\n",
    "\n",
    "\n",
    "def generate_input(n: int) -> List[float] :\n",
    "    list= []\n",
    "    input_range = get_input_range(n)\n",
    "    for i in range(0,n*n):\n",
    "        l = random.randint(input_range[0],int(input_range[1]))\n",
    "        list.append(float(l))\n",
    "    return np.array(list).reshape(n,n)"
   ]
  },
  {
   "cell_type": "code",
   "execution_count": 3,
   "metadata": {},
   "outputs": [],
   "source": [
    "n1 = 2\n",
    "A1 = generate_input(n1)\n",
    "B1 = generate_input(n1)\n",
    "\n",
    "n2 = 4\n",
    "A2 = generate_input(n2)\n",
    "B2 = generate_input(n2)\n",
    "\n",
    "n3 = 8\n",
    "A3 = generate_input(n3)\n",
    "B3 = generate_input(n3)\n",
    "\n",
    "n4 = 16\n",
    "A4 = generate_input(n4)\n",
    "B4 = generate_input(n4)\n",
    "\n",
    "n5 = 32\n",
    "A5 = generate_input(n5)\n",
    "B5 = generate_input(n5)\n",
    "\n",
    "n6 = 64\n",
    "A6 = generate_input(n6)\n",
    "B6 = generate_input(n6)\n",
    "\n",
    "n7 = 128\n",
    "A7 = generate_input(n7)\n",
    "B7 = generate_input(n7)\n",
    "\n",
    "n8 = 256\n",
    "A8 = generate_input(n8)\n",
    "B8 = generate_input(n8)\n",
    "\n",
    "n9 = 512\n",
    "A9 = generate_input(n9)\n",
    "B9 = generate_input(n9)"
   ]
  },
  {
   "cell_type": "code",
   "execution_count": 4,
   "metadata": {},
   "outputs": [],
   "source": [
    "C1expected = np.matmul(A1,B1)\n",
    "C2expected = np.matmul(A2,B2)\n",
    "C3expected = np.matmul(A3,B3)\n",
    "C4expected = np.matmul(A4,B4)\n",
    "C5expected = np.matmul(A5,B5)\n",
    "C6expected = np.matmul(A6,B6)\n",
    "C7expected = np.matmul(A7,B7)\n",
    "C8expected = np.matmul(A8,B8)\n",
    "C9expected = np.matmul(A9,B9)"
   ]
  },
  {
   "cell_type": "markdown",
   "metadata": {},
   "source": [
    "## Elementary matrix multiplication\n",
    "### Calculate the result of elementary matrix multiplication and the expected result using numpy matmul method"
   ]
  },
  {
   "cell_type": "code",
   "execution_count": 5,
   "metadata": {},
   "outputs": [],
   "source": [
    "C1elementary = (elementary_multiplication(Matrix(n1,n1, A1), Matrix(n1,n1,B1))).tolist()\n",
    "\n",
    "\n",
    "C2elementary = (elementary_multiplication(Matrix(n2,n2, A2), Matrix(n2,n2,B2))).tolist()\n",
    "\n",
    "\n",
    "C3elementary = (elementary_multiplication(Matrix(n3,n3, A3), Matrix(n3,n3,B3))).tolist()\n",
    "\n",
    "\n",
    "C4elementary = (elementary_multiplication(Matrix(n4,n4, A4), Matrix(n4,n4,B4))).tolist()\n",
    "\n",
    "\n",
    "C5elementary = (elementary_multiplication(Matrix(n5,n5, A5), Matrix(n5,n5,B5))).tolist()\n",
    "\n",
    "\n",
    "C6elementary = (elementary_multiplication(Matrix(n6,n6, A6), Matrix(n6,n6,B6))).tolist()\n",
    "\n",
    "\n",
    "C7elementary = (elementary_multiplication(Matrix(n7,n7, A7), Matrix(n7,n7,B7))).tolist()\n",
    "\n",
    "C8elementary = (elementary_multiplication(Matrix(n8,n8, A8), Matrix(n8,n8,B8))).tolist()\n",
    "\n",
    "\n",
    "C9elementary = (elementary_multiplication(Matrix(n9,n9, A9), Matrix(n9,n9,B9))).tolist()\n"
   ]
  },
  {
   "cell_type": "markdown",
   "metadata": {},
   "source": [
    "### Testing blocks to compare the expected output against the actual one"
   ]
  },
  {
   "cell_type": "code",
   "execution_count": 6,
   "metadata": {},
   "outputs": [
    {
     "name": "stdout",
     "output_type": "stream",
     "text": [
      "None\n"
     ]
    }
   ],
   "source": [
    "print(np.testing.assert_array_equal(C1elementary,C1expected))"
   ]
  },
  {
   "cell_type": "code",
   "execution_count": 7,
   "metadata": {},
   "outputs": [
    {
     "name": "stdout",
     "output_type": "stream",
     "text": [
      "None\n"
     ]
    }
   ],
   "source": [
    "print(np.testing.assert_array_equal(C2elementary,C2expected))"
   ]
  },
  {
   "cell_type": "code",
   "execution_count": 8,
   "metadata": {},
   "outputs": [
    {
     "name": "stdout",
     "output_type": "stream",
     "text": [
      "None\n"
     ]
    }
   ],
   "source": [
    "print(np.testing.assert_array_equal(C3elementary,C3expected))"
   ]
  },
  {
   "cell_type": "code",
   "execution_count": 9,
   "metadata": {},
   "outputs": [
    {
     "name": "stdout",
     "output_type": "stream",
     "text": [
      "None\n"
     ]
    }
   ],
   "source": [
    "print(np.testing.assert_array_equal(C4elementary,C4expected))"
   ]
  },
  {
   "cell_type": "code",
   "execution_count": 10,
   "metadata": {},
   "outputs": [
    {
     "name": "stdout",
     "output_type": "stream",
     "text": [
      "None\n"
     ]
    }
   ],
   "source": [
    "print(np.testing.assert_array_equal(C5elementary,C5expected))"
   ]
  },
  {
   "cell_type": "code",
   "execution_count": 11,
   "metadata": {},
   "outputs": [
    {
     "name": "stdout",
     "output_type": "stream",
     "text": [
      "None\n"
     ]
    }
   ],
   "source": [
    "print(np.testing.assert_array_equal(C6elementary,C6expected))"
   ]
  },
  {
   "cell_type": "code",
   "execution_count": 12,
   "metadata": {},
   "outputs": [
    {
     "name": "stdout",
     "output_type": "stream",
     "text": [
      "None\n"
     ]
    }
   ],
   "source": [
    "print(np.testing.assert_array_equal(C7elementary,C7expected))"
   ]
  },
  {
   "cell_type": "code",
   "execution_count": 13,
   "metadata": {},
   "outputs": [
    {
     "name": "stdout",
     "output_type": "stream",
     "text": [
      "None\n"
     ]
    }
   ],
   "source": [
    "print(np.testing.assert_array_equal(C8elementary,C8expected))"
   ]
  },
  {
   "cell_type": "code",
   "execution_count": 14,
   "metadata": {},
   "outputs": [
    {
     "name": "stdout",
     "output_type": "stream",
     "text": [
      "None\n"
     ]
    }
   ],
   "source": [
    "print(np.testing.assert_array_equal(C9elementary,C9expected))"
   ]
  },
  {
   "cell_type": "markdown",
   "metadata": {},
   "source": [
    "## Generate the transposed B matrix for elementary multiplication assuming the second operand transposed\n",
    "### Use deepcopy to obtain the same result as in the original input (no seed used for random number generation)"
   ]
  },
  {
   "cell_type": "code",
   "execution_count": 20,
   "metadata": {},
   "outputs": [],
   "source": [
    "\n",
    "B1t = copy.deepcopy(B1)\n",
    "transpose(Matrix(n1,n1,B1t))\n",
    "\n",
    "B2t = copy.deepcopy(B2)\n",
    "transpose(Matrix(n2,n2,B2t))\n",
    "\n",
    "B3t = copy.deepcopy(B3)\n",
    "transpose(Matrix(n3,n3,B3t))\n",
    "\n",
    "B4t = copy.deepcopy(B4)\n",
    "transpose(Matrix(n4,n4,B4t))\n",
    "\n",
    "B5t = copy.deepcopy(B5)\n",
    "transpose(Matrix(n5,n5,B5t))\n",
    "\n",
    "B6t = copy.deepcopy(B6)\n",
    "transpose(Matrix(n6,n6,B6t))\n",
    "\n",
    "B7t = copy.deepcopy(B7)\n",
    "transpose(Matrix(n7,n7,B7t))\n",
    "\n",
    "B8t = copy.deepcopy(B8)\n",
    "transpose(Matrix(n8,n8,B8t))\n",
    "\n",
    "B9t = copy.deepcopy(B9)\n",
    "transpose(Matrix(n9,n9,B9t))"
   ]
  },
  {
   "cell_type": "markdown",
   "metadata": {},
   "source": [
    "## Elementary transposed matrix multiplication\n",
    "### Calculate the results using the implementation"
   ]
  },
  {
   "cell_type": "code",
   "execution_count": 21,
   "metadata": {},
   "outputs": [],
   "source": [
    "C1elementarytransposed = (elementary_multiplication_transposed(Matrix(n1,n1, A1), Matrix(n1,n1,B1t))).tolist()\n",
    "C2elementarytransposed = (elementary_multiplication_transposed(Matrix(n2,n2, A2), Matrix(n2,n2,B2t))).tolist()\n",
    "C3elementarytransposed = (elementary_multiplication_transposed(Matrix(n3,n3, A3), Matrix(n3,n3,B3t))).tolist()\n",
    "C4elementarytransposed = (elementary_multiplication_transposed(Matrix(n4,n4, A4), Matrix(n4,n4,B4t))).tolist()\n",
    "C5elementarytransposed = (elementary_multiplication_transposed(Matrix(n5,n5, A5), Matrix(n5,n5,B5t))).tolist()\n",
    "C6elementarytransposed = (elementary_multiplication_transposed(Matrix(n6,n6, A6), Matrix(n6,n6,B6t))).tolist()\n",
    "C7elementarytransposed = (elementary_multiplication_transposed(Matrix(n7,n7, A7), Matrix(n7,n7,B7t))).tolist()\n",
    "C8elementarytransposed = (elementary_multiplication_transposed(Matrix(n8,n8, A8), Matrix(n8,n8,B8t))).tolist()\n",
    "C9elementarytransposed = (elementary_multiplication_transposed(Matrix(n9,n9, A9), Matrix(n9,n9,B9t))).tolist()"
   ]
  },
  {
   "cell_type": "markdown",
   "metadata": {},
   "source": [
    "### Testing blocks to compare the expected output against the actual one"
   ]
  },
  {
   "cell_type": "code",
   "execution_count": 22,
   "metadata": {},
   "outputs": [
    {
     "name": "stdout",
     "output_type": "stream",
     "text": [
      "None\n"
     ]
    }
   ],
   "source": [
    "print(np.testing.assert_array_equal(C1elementarytransposed,C1expected))"
   ]
  },
  {
   "cell_type": "code",
   "execution_count": 23,
   "metadata": {},
   "outputs": [
    {
     "name": "stdout",
     "output_type": "stream",
     "text": [
      "None\n"
     ]
    }
   ],
   "source": [
    "print(np.testing.assert_array_equal(C2elementarytransposed,C2expected))"
   ]
  },
  {
   "cell_type": "code",
   "execution_count": 24,
   "metadata": {},
   "outputs": [
    {
     "name": "stdout",
     "output_type": "stream",
     "text": [
      "None\n"
     ]
    }
   ],
   "source": [
    "print(np.testing.assert_array_equal(C3elementarytransposed,C3expected))"
   ]
  },
  {
   "cell_type": "code",
   "execution_count": 25,
   "metadata": {},
   "outputs": [
    {
     "name": "stdout",
     "output_type": "stream",
     "text": [
      "None\n"
     ]
    }
   ],
   "source": [
    "print(np.testing.assert_array_equal(C4elementarytransposed,C4expected))"
   ]
  },
  {
   "cell_type": "code",
   "execution_count": 26,
   "metadata": {},
   "outputs": [
    {
     "name": "stdout",
     "output_type": "stream",
     "text": [
      "None\n"
     ]
    }
   ],
   "source": [
    "print(np.testing.assert_array_equal(C5elementarytransposed,C5expected))"
   ]
  },
  {
   "cell_type": "code",
   "execution_count": 27,
   "metadata": {},
   "outputs": [
    {
     "name": "stdout",
     "output_type": "stream",
     "text": [
      "None\n"
     ]
    }
   ],
   "source": [
    "print(np.testing.assert_array_equal(C6elementarytransposed,C6expected))"
   ]
  },
  {
   "cell_type": "code",
   "execution_count": 28,
   "metadata": {},
   "outputs": [
    {
     "name": "stdout",
     "output_type": "stream",
     "text": [
      "None\n"
     ]
    }
   ],
   "source": [
    "print(np.testing.assert_array_equal(C7elementarytransposed,C7expected))"
   ]
  },
  {
   "cell_type": "code",
   "execution_count": 29,
   "metadata": {},
   "outputs": [
    {
     "name": "stdout",
     "output_type": "stream",
     "text": [
      "None\n"
     ]
    }
   ],
   "source": [
    "print(np.testing.assert_array_equal(C8elementarytransposed,C8expected))"
   ]
  },
  {
   "cell_type": "code",
   "execution_count": 30,
   "metadata": {},
   "outputs": [
    {
     "name": "stdout",
     "output_type": "stream",
     "text": [
      "None\n"
     ]
    }
   ],
   "source": [
    "print(np.testing.assert_array_equal(C9elementarytransposed,C9expected))"
   ]
  },
  {
   "cell_type": "markdown",
   "metadata": {},
   "source": [
    "## Tiled results"
   ]
  },
  {
   "cell_type": "code",
   "execution_count": 31,
   "metadata": {},
   "outputs": [],
   "source": [
    "C1tiled = (tiled_multiplication(Matrix(n1,n1, A1), Matrix(n1,n1,B1),1)).tolist()\n",
    "C2tiled = (tiled_multiplication(Matrix(n2,n2, A2), Matrix(n2,n2,B2),2)).tolist()\n",
    "C3tiled = (tiled_multiplication(Matrix(n3,n3, A3), Matrix(n3,n3,B3),4)).tolist()\n",
    "C4tiled = (tiled_multiplication(Matrix(n4,n4, A4), Matrix(n4,n4,B4),8)).tolist()\n",
    "C5tiled = (tiled_multiplication(Matrix(n5,n5, A5), Matrix(n5,n5,B5),16)).tolist()\n",
    "C6tiled = (tiled_multiplication(Matrix(n6,n6, A6), Matrix(n6,n6,B6),32)).tolist()\n",
    "\n",
    "C7tiled2 = (tiled_multiplication(Matrix(n7,n7, A7), Matrix(n7,n7,B7),2)).tolist()\n",
    "C7tiled4 = (tiled_multiplication(Matrix(n7,n7, A7), Matrix(n7,n7,B7),4)).tolist()\n",
    "C7tiled8 = (tiled_multiplication(Matrix(n7,n7, A7), Matrix(n7,n7,B7),8)).tolist()\n",
    "C7tiled16 = (tiled_multiplication(Matrix(n7,n7, A7), Matrix(n7,n7,B7),16)).tolist()\n",
    "C7tiled32 = (tiled_multiplication(Matrix(n7,n7, A7), Matrix(n7,n7,B7),32)).tolist()\n",
    "C7tiled64 = (tiled_multiplication(Matrix(n7,n7, A7), Matrix(n7,n7,B7),64)).tolist()\n",
    "\n",
    "\n",
    "C8tiled = (tiled_multiplication(Matrix(n8,n8, A8), Matrix(n8,n8,B8),128)).tolist()\n",
    "C9tiled = (tiled_multiplication(Matrix(n9,n9, A9), Matrix(n9,n9,B9),512)).tolist()"
   ]
  },
  {
   "cell_type": "markdown",
   "metadata": {},
   "source": [
    "## Tiled tests"
   ]
  },
  {
   "cell_type": "code",
   "execution_count": 32,
   "metadata": {},
   "outputs": [
    {
     "name": "stdout",
     "output_type": "stream",
     "text": [
      "None\n"
     ]
    }
   ],
   "source": [
    "print(np.testing.assert_array_equal(C1tiled,C1expected))"
   ]
  },
  {
   "cell_type": "code",
   "execution_count": 33,
   "metadata": {},
   "outputs": [
    {
     "name": "stdout",
     "output_type": "stream",
     "text": [
      "None\n"
     ]
    }
   ],
   "source": [
    "print(np.testing.assert_array_equal(C2tiled,C2expected))"
   ]
  },
  {
   "cell_type": "code",
   "execution_count": 34,
   "metadata": {},
   "outputs": [
    {
     "name": "stdout",
     "output_type": "stream",
     "text": [
      "None\n"
     ]
    }
   ],
   "source": [
    "print(np.testing.assert_array_equal(C3tiled,C3expected))"
   ]
  },
  {
   "cell_type": "code",
   "execution_count": 35,
   "metadata": {},
   "outputs": [
    {
     "name": "stdout",
     "output_type": "stream",
     "text": [
      "None\n"
     ]
    }
   ],
   "source": [
    "print(np.testing.assert_array_equal(C4tiled,C4expected))"
   ]
  },
  {
   "cell_type": "code",
   "execution_count": 36,
   "metadata": {},
   "outputs": [
    {
     "name": "stdout",
     "output_type": "stream",
     "text": [
      "None\n"
     ]
    }
   ],
   "source": [
    "print(np.testing.assert_array_equal(C5tiled,C5expected))"
   ]
  },
  {
   "cell_type": "code",
   "execution_count": 37,
   "metadata": {},
   "outputs": [
    {
     "name": "stdout",
     "output_type": "stream",
     "text": [
      "None\n"
     ]
    }
   ],
   "source": [
    "print(np.testing.assert_array_equal(C6tiled,C6expected))"
   ]
  },
  {
   "cell_type": "code",
   "execution_count": 38,
   "metadata": {},
   "outputs": [
    {
     "name": "stdout",
     "output_type": "stream",
     "text": [
      "None\n"
     ]
    }
   ],
   "source": [
    "print(np.testing.assert_array_equal(C7tiled2,C7expected))"
   ]
  },
  {
   "cell_type": "code",
   "execution_count": 39,
   "metadata": {},
   "outputs": [
    {
     "name": "stdout",
     "output_type": "stream",
     "text": [
      "None\n"
     ]
    }
   ],
   "source": [
    "print(np.testing.assert_array_equal(C7tiled4,C7expected))"
   ]
  },
  {
   "cell_type": "code",
   "execution_count": 40,
   "metadata": {},
   "outputs": [
    {
     "name": "stdout",
     "output_type": "stream",
     "text": [
      "None\n"
     ]
    }
   ],
   "source": [
    "print(np.testing.assert_array_equal(C7tiled8,C7expected))"
   ]
  },
  {
   "cell_type": "code",
   "execution_count": 41,
   "metadata": {},
   "outputs": [
    {
     "name": "stdout",
     "output_type": "stream",
     "text": [
      "None\n"
     ]
    }
   ],
   "source": [
    "print(np.testing.assert_array_equal(C7tiled16,C7expected))"
   ]
  },
  {
   "cell_type": "code",
   "execution_count": 42,
   "metadata": {},
   "outputs": [
    {
     "name": "stdout",
     "output_type": "stream",
     "text": [
      "None\n"
     ]
    }
   ],
   "source": [
    "print(np.testing.assert_array_equal(C7tiled32,C7expected))"
   ]
  },
  {
   "cell_type": "code",
   "execution_count": 43,
   "metadata": {},
   "outputs": [
    {
     "name": "stdout",
     "output_type": "stream",
     "text": [
      "None\n"
     ]
    }
   ],
   "source": [
    "print(np.testing.assert_array_equal(C7tiled64,C7expected))"
   ]
  },
  {
   "cell_type": "code",
   "execution_count": 44,
   "metadata": {},
   "outputs": [
    {
     "name": "stdout",
     "output_type": "stream",
     "text": [
      "None\n"
     ]
    }
   ],
   "source": [
    "print(np.testing.assert_array_equal(C8tiled,C8expected))"
   ]
  },
  {
   "cell_type": "code",
   "execution_count": 45,
   "metadata": {},
   "outputs": [
    {
     "name": "stdout",
     "output_type": "stream",
     "text": [
      "None\n"
     ]
    }
   ],
   "source": [
    "print(np.testing.assert_array_equal(C9tiled,C9expected))"
   ]
  },
  {
   "cell_type": "markdown",
   "metadata": {},
   "source": [
    "## Recursive copying results"
   ]
  },
  {
   "cell_type": "code",
   "execution_count": 46,
   "metadata": {},
   "outputs": [],
   "source": [
    "C1copying = (recursive_multiplication_copying(Matrix(n1,n1, A1), Matrix(n1,n1,B1))).tolist()\n",
    "\n",
    "C2copying = (recursive_multiplication_copying(Matrix(n2,n2, A2), Matrix(n2,n2,B2))).tolist()\n",
    "\n",
    "C3copying = (recursive_multiplication_copying(Matrix(n3,n3, A3), Matrix(n3,n3,B3))).tolist()\n",
    "\n",
    "C4copying = (recursive_multiplication_copying(Matrix(n4,n4, A4), Matrix(n4,n4,B4))).tolist()\n",
    "\n",
    "C5copying = (recursive_multiplication_copying(Matrix(n5,n5, A5), Matrix(n5,n5,B5))).tolist()\n",
    "\n",
    "C6copying = (recursive_multiplication_copying(Matrix(n6,n6, A6), Matrix(n6,n6,B6))).tolist()\n",
    "\n",
    "C7copying = (recursive_multiplication_copying(Matrix(n7,n7, A7), Matrix(n7,n7,B7))).tolist()\n",
    "\n",
    "C8copying = (recursive_multiplication_copying(Matrix(n8,n8, A8), Matrix(n8,n8,B8))).tolist()\n",
    "\n",
    "C9copying = (recursive_multiplication_copying(Matrix(n9,n9, A9), Matrix(n9,n9,B9))).tolist()"
   ]
  },
  {
   "cell_type": "markdown",
   "metadata": {},
   "source": [
    "## Recursive copying tests"
   ]
  },
  {
   "cell_type": "code",
   "execution_count": 47,
   "metadata": {},
   "outputs": [
    {
     "name": "stdout",
     "output_type": "stream",
     "text": [
      "None\n"
     ]
    }
   ],
   "source": [
    "print(np.testing.assert_array_equal(C1copying,C1expected))"
   ]
  },
  {
   "cell_type": "code",
   "execution_count": 48,
   "metadata": {},
   "outputs": [
    {
     "name": "stdout",
     "output_type": "stream",
     "text": [
      "None\n"
     ]
    }
   ],
   "source": [
    "print(np.testing.assert_array_equal(C2copying,C2expected))"
   ]
  },
  {
   "cell_type": "code",
   "execution_count": 49,
   "metadata": {},
   "outputs": [
    {
     "name": "stdout",
     "output_type": "stream",
     "text": [
      "None\n"
     ]
    }
   ],
   "source": [
    "print(np.testing.assert_array_equal(C3copying,C3expected))"
   ]
  },
  {
   "cell_type": "code",
   "execution_count": 50,
   "metadata": {},
   "outputs": [
    {
     "name": "stdout",
     "output_type": "stream",
     "text": [
      "None\n"
     ]
    }
   ],
   "source": [
    "print(np.testing.assert_array_equal(C4copying,C4expected))"
   ]
  },
  {
   "cell_type": "code",
   "execution_count": 51,
   "metadata": {},
   "outputs": [
    {
     "name": "stdout",
     "output_type": "stream",
     "text": [
      "None\n"
     ]
    }
   ],
   "source": [
    "print(np.testing.assert_array_equal(C5copying,C5expected))"
   ]
  },
  {
   "cell_type": "code",
   "execution_count": 52,
   "metadata": {},
   "outputs": [
    {
     "name": "stdout",
     "output_type": "stream",
     "text": [
      "None\n"
     ]
    }
   ],
   "source": [
    "print(np.testing.assert_array_equal(C6copying,C6expected))"
   ]
  },
  {
   "cell_type": "code",
   "execution_count": 53,
   "metadata": {},
   "outputs": [
    {
     "name": "stdout",
     "output_type": "stream",
     "text": [
      "None\n"
     ]
    }
   ],
   "source": [
    "print(np.testing.assert_array_equal(C7copying,C7expected))"
   ]
  },
  {
   "cell_type": "code",
   "execution_count": 54,
   "metadata": {},
   "outputs": [
    {
     "name": "stdout",
     "output_type": "stream",
     "text": [
      "None\n"
     ]
    }
   ],
   "source": [
    "print(np.testing.assert_array_equal(C8copying,C8expected))"
   ]
  },
  {
   "cell_type": "code",
   "execution_count": 55,
   "metadata": {},
   "outputs": [
    {
     "name": "stdout",
     "output_type": "stream",
     "text": [
      "None\n"
     ]
    }
   ],
   "source": [
    "print(np.testing.assert_array_equal(C9copying,C9expected))"
   ]
  },
  {
   "cell_type": "markdown",
   "metadata": {},
   "source": [
    "## Generate empty C Matrix for recursive write-through implementation"
   ]
  },
  {
   "cell_type": "code",
   "execution_count": 56,
   "metadata": {},
   "outputs": [],
   "source": [
    "C1 = Matrix(n1, n1)\n",
    "C2 = Matrix(n2, n2)\n",
    "C3 = Matrix(n3, n3)\n",
    "C4 = Matrix(n4, n4)\n",
    "C5 = Matrix(n5, n5)\n",
    "C6 = Matrix(n6, n6)\n",
    "C7 = Matrix(n7, n7)\n",
    "C8 = Matrix(n8, n8)\n",
    "C9 = Matrix(n9, n9)"
   ]
  },
  {
   "cell_type": "markdown",
   "metadata": {},
   "source": [
    "## Recursive write-through results\n"
   ]
  },
  {
   "cell_type": "code",
   "execution_count": 58,
   "metadata": {},
   "outputs": [],
   "source": [
    "C1write_through = (recursive_multiplication_write_through(Matrix(n1,n1, A1), Matrix(n1,n1,B1), C1)).tolist()\n",
    "\n",
    "C2write_through = (recursive_multiplication_write_through(Matrix(n2,n2, A2), Matrix(n2,n2,B2), C2)).tolist()\n",
    "\n",
    "C3write_through = (recursive_multiplication_write_through(Matrix(n3,n3, A3), Matrix(n3,n3,B3), C3)).tolist()\n",
    "\n",
    "C4write_through = (recursive_multiplication_write_through(Matrix(n4,n4, A4), Matrix(n4,n4,B4), C4)).tolist()\n",
    "\n",
    "C5write_through = (recursive_multiplication_write_through(Matrix(n5,n5, A5), Matrix(n5,n5,B5), C5)).tolist()\n",
    "\n",
    "C6write_through = (recursive_multiplication_write_through(Matrix(n6,n6, A6), Matrix(n6,n6,B6), C6)).tolist()\n",
    "\n",
    "C7write_through = (recursive_multiplication_write_through(Matrix(n7,n7, A7), Matrix(n7,n7,B7), C7)).tolist()\n",
    "\n",
    "C8write_through = (recursive_multiplication_write_through(Matrix(n8,n8, A8), Matrix(n8,n8,B8), C8)).tolist()\n",
    "\n",
    "C9write_through = (recursive_multiplication_write_through(Matrix(n9,n9, A9), Matrix(n9,n9,B9), C9)).tolist()"
   ]
  },
  {
   "cell_type": "markdown",
   "metadata": {},
   "source": [
    "## Recursive write-through tests"
   ]
  },
  {
   "cell_type": "code",
   "execution_count": 59,
   "metadata": {},
   "outputs": [
    {
     "name": "stdout",
     "output_type": "stream",
     "text": [
      "None\n"
     ]
    }
   ],
   "source": [
    "print(np.testing.assert_array_equal(C1write_through,C1expected))"
   ]
  },
  {
   "cell_type": "code",
   "execution_count": 60,
   "metadata": {},
   "outputs": [
    {
     "name": "stdout",
     "output_type": "stream",
     "text": [
      "None\n"
     ]
    }
   ],
   "source": [
    "print(np.testing.assert_array_equal(C2write_through,C2expected))"
   ]
  },
  {
   "cell_type": "code",
   "execution_count": 61,
   "metadata": {},
   "outputs": [
    {
     "name": "stdout",
     "output_type": "stream",
     "text": [
      "None\n"
     ]
    }
   ],
   "source": [
    "print(np.testing.assert_array_equal(C3write_through,C3expected))"
   ]
  },
  {
   "cell_type": "code",
   "execution_count": 62,
   "metadata": {},
   "outputs": [
    {
     "name": "stdout",
     "output_type": "stream",
     "text": [
      "None\n"
     ]
    }
   ],
   "source": [
    "print(np.testing.assert_array_equal(C4write_through,C4expected))"
   ]
  },
  {
   "cell_type": "code",
   "execution_count": 63,
   "metadata": {},
   "outputs": [
    {
     "name": "stdout",
     "output_type": "stream",
     "text": [
      "None\n"
     ]
    }
   ],
   "source": [
    "print(np.testing.assert_array_equal(C5write_through,C5expected))"
   ]
  },
  {
   "cell_type": "code",
   "execution_count": 64,
   "metadata": {},
   "outputs": [
    {
     "name": "stdout",
     "output_type": "stream",
     "text": [
      "None\n"
     ]
    }
   ],
   "source": [
    "print(np.testing.assert_array_equal(C6write_through,C6expected))"
   ]
  },
  {
   "cell_type": "code",
   "execution_count": 65,
   "metadata": {},
   "outputs": [
    {
     "name": "stdout",
     "output_type": "stream",
     "text": [
      "None\n"
     ]
    }
   ],
   "source": [
    "print(np.testing.assert_array_equal(C7write_through,C7expected))"
   ]
  },
  {
   "cell_type": "code",
   "execution_count": 66,
   "metadata": {},
   "outputs": [
    {
     "name": "stdout",
     "output_type": "stream",
     "text": [
      "None\n"
     ]
    }
   ],
   "source": [
    "print(np.testing.assert_array_equal(C8write_through,C8expected))"
   ]
  },
  {
   "cell_type": "code",
   "execution_count": 67,
   "metadata": {},
   "outputs": [
    {
     "name": "stdout",
     "output_type": "stream",
     "text": [
      "None\n"
     ]
    }
   ],
   "source": [
    "print(np.testing.assert_array_equal(C9write_through,C9expected))"
   ]
  },
  {
   "cell_type": "code",
   "execution_count": 9,
   "metadata": {},
   "outputs": [],
   "source": [
    "def strassen(A: Matrix, B: Matrix, m=0)->Matrix:\n",
    "    \"\"\"\n",
    "    Computes C=AB using Strassen's algorithm. The structure ought\n",
    "    to be similar to the copying recursive algorithm. The parameter\n",
    "    m controls when the routine falls back to a cubic algorithm, as\n",
    "    the subproblem size satisfies n <= m.\n",
    "    \"\"\"\n",
    "    n = A.rows()\n",
    "    \n",
    "    if n <= m:\n",
    "        return elementary_multiplication(A,B)\n",
    "    \n",
    "    elif n == 1:\n",
    "        C = A[0]*B[0]\n",
    "        return C\n",
    "    \n",
    "    else:\n",
    "        #Making a C responding to the current size of A in the current recursion level\n",
    "        C = Matrix(A.rows(), A.rows())\n",
    "        \n",
    "        #Cutting our copy of C into four sections\n",
    "        C00 = C[:n//2,:n//2]\n",
    "        C01 = C[:n//2,n//2:]\n",
    "        C10 = C[n//2:,:n//2]\n",
    "        C11 = C[n//2:,n//2:]\n",
    "        \n",
    "        \n",
    "        # P1 = A00 + A11\n",
    "        P1 = A[:n//2,:n//2] + A[n//2:,n//2:]\n",
    "        # P2 = A10 + A11\n",
    "        P2 = A[n//2:,:n//2] + A[n//2:,n//2:]\n",
    "        # P3 = A00\n",
    "        P3 = A[:n//2,:n//2]\n",
    "        # P4 = A11\n",
    "        P4 = A[n//2:,n//2:]\n",
    "        # P5 = A00 + A01\n",
    "        P5 = A[:n//2,:n//2] + A[:n//2,n//2:]\n",
    "        # P6 = A10 - A00\n",
    "        P6 = A[n//2:,:n//2] - A[:n//2,:n//2]\n",
    "        # P7 = A01 - A11\n",
    "        P7 = A[:n//2,n//2:] - A[n//2:,n//2:]\n",
    "        \n",
    "        # Q1 = B00 + B11\n",
    "        Q1 = B[:n//2,:n//2] + B[n//2:,n//2:]\n",
    "        # Q2 = B00\n",
    "        Q2 = B[:n//2,:n//2]\n",
    "        # Q3 = B01 - B11 \n",
    "        Q3 = B[:n//2,n//2:] - B[n//2:,n//2:]\n",
    "        # Q4 = B10 - B00\n",
    "        Q4 = B[n//2:,:n//2] - B[:n//2,:n//2]\n",
    "        # Q5 = B11\n",
    "        Q5 = B[n//2:,n//2:]\n",
    "        # Q6 = B00 + B01\n",
    "        Q6 = B[:n//2,:n//2] + B[:n//2,n//2:]\n",
    "        # Q7 = B10 + B11\n",
    "        Q7 = B[n//2:,:n//2] + B[n//2:,n//2:]\n",
    "            \n",
    "        # Then compute Mi = Pi*Qi by a recursive application of the function\n",
    "        M1 = strassen(P1,Q1, m)\n",
    "        M2 = strassen(P2,Q2, m)\n",
    "        M3 = strassen(P3,Q3, m)\n",
    "        M4 = strassen(P4,Q4, m)\n",
    "        M5 = strassen(P5,Q5, m)\n",
    "        M6 = strassen(P6,Q6, m)\n",
    "        M7 = strassen(P7,Q7, m)\n",
    "        \n",
    "        # Following the recipe from the slides:\n",
    "        \n",
    "        C00 += M1 + M4 - M5 + M7\n",
    "        C01 += M3 + M5\n",
    "        C10 += M2 + M4\n",
    "        C11 += M1 - M2 + M3 + M6\n",
    "\n",
    "        return C"
   ]
  },
  {
   "cell_type": "markdown",
   "metadata": {},
   "source": [
    "## Strassen results"
   ]
  },
  {
   "cell_type": "code",
   "execution_count": 10,
   "metadata": {},
   "outputs": [],
   "source": [
    "C1strassen = (strassen(Matrix(n1,n1, A1), Matrix(n1,n1,B1))).tolist()\n",
    "\n",
    "C2strassen = (strassen(Matrix(n2,n2, A2), Matrix(n2,n2,B2))).tolist()\n",
    "\n",
    "C3strassen = (strassen(Matrix(n3,n3, A3), Matrix(n3,n3,B3))).tolist()\n",
    "\n",
    "C4strassen = (strassen(Matrix(n4,n4, A4), Matrix(n4,n4,B4))).tolist()\n",
    "\n",
    "# C5strassen = (strassen(Matrix(n5,n5, A5), Matrix(n5,n5,B5))).tolist()\n",
    "\n",
    "# C6strassen = (strassen(Matrix(n6,n6, A6), Matrix(n6,n6,B6))).tolist()\n",
    "\n",
    "# C7strassen = (strassen(Matrix(n7,n7, A7), Matrix(n7,n7,B7))).tolist()\n",
    "\n",
    "# C8strassen = (strassen(Matrix(n8,n8, A8), Matrix(n8,n8,B8))).tolist()\n",
    "\n",
    "# C9strassen = (strassen(Matrix(n9,n9, A9), Matrix(n9,n9,B9))).tolist()"
   ]
  },
  {
   "cell_type": "code",
   "execution_count": 11,
   "metadata": {},
   "outputs": [
    {
     "name": "stdout",
     "output_type": "stream",
     "text": [
      "None\n"
     ]
    }
   ],
   "source": [
    "print(np.testing.assert_array_equal(C1strassen,C1expected))"
   ]
  },
  {
   "cell_type": "code",
   "execution_count": 12,
   "metadata": {},
   "outputs": [
    {
     "name": "stdout",
     "output_type": "stream",
     "text": [
      "None\n"
     ]
    }
   ],
   "source": [
    "print(np.testing.assert_allclose(C2strassen,C2expected))"
   ]
  },
  {
   "cell_type": "code",
   "execution_count": 13,
   "metadata": {},
   "outputs": [
    {
     "name": "stdout",
     "output_type": "stream",
     "text": [
      "None\n"
     ]
    }
   ],
   "source": [
    "print(np.testing.assert_allclose(C3strassen,C3expected))"
   ]
  },
  {
   "cell_type": "code",
   "execution_count": 14,
   "metadata": {},
   "outputs": [
    {
     "name": "stdout",
     "output_type": "stream",
     "text": [
      "None\n"
     ]
    }
   ],
   "source": [
    "print(np.testing.assert_allclose(C4strassen,C4expected))"
   ]
  },
  {
   "cell_type": "code",
   "execution_count": 15,
   "metadata": {},
   "outputs": [
    {
     "name": "stdout",
     "output_type": "stream",
     "text": [
      "None\n"
     ]
    }
   ],
   "source": [
    "print(np.testing.assert_allclose(C5strassen,C5expected))"
   ]
  },
  {
   "cell_type": "code",
   "execution_count": 75,
   "metadata": {},
   "outputs": [
    {
     "name": "stdout",
     "output_type": "stream",
     "text": [
      "None\n"
     ]
    }
   ],
   "source": [
    "print(np.testing.assert_allclose(C6strassen,C6expected))"
   ]
  },
  {
   "cell_type": "code",
   "execution_count": 76,
   "metadata": {},
   "outputs": [
    {
     "name": "stdout",
     "output_type": "stream",
     "text": [
      "None\n"
     ]
    }
   ],
   "source": [
    "print(np.testing.assert_allclose(C7strassen,C7expected))"
   ]
  },
  {
   "cell_type": "code",
   "execution_count": 77,
   "metadata": {},
   "outputs": [
    {
     "name": "stdout",
     "output_type": "stream",
     "text": [
      "None\n"
     ]
    }
   ],
   "source": [
    "print(np.testing.assert_allclose(C8strassen,C8expected))"
   ]
  },
  {
   "cell_type": "code",
   "execution_count": 78,
   "metadata": {},
   "outputs": [
    {
     "name": "stdout",
     "output_type": "stream",
     "text": [
      "None\n"
     ]
    }
   ],
   "source": [
    "print(np.testing.assert_allclose(C9strassen,C9expected))"
   ]
  }
 ],
 "metadata": {
  "interpreter": {
   "hash": "31f2aee4e71d21fbe5cf8b01ff0e069b9275f58929596ceb00d14d90e3e16cd6"
  },
  "kernelspec": {
   "display_name": "Python 3.7.5 64-bit",
   "language": "python",
   "name": "python3"
  },
  "language_info": {
   "codemirror_mode": {
    "name": "ipython",
    "version": 3
   },
   "file_extension": ".py",
   "mimetype": "text/x-python",
   "name": "python",
   "nbconvert_exporter": "python",
   "pygments_lexer": "ipython3",
   "version": "3.7.5"
  },
  "orig_nbformat": 4
 },
 "nbformat": 4,
 "nbformat_minor": 2
}

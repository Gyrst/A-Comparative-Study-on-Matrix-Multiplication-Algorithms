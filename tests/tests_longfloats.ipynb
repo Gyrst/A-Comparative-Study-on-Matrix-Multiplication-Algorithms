{
 "cells": [
  {
   "cell_type": "code",
   "execution_count": 2,
   "metadata": {},
   "outputs": [],
   "source": [
    "import sys\n",
    "import os\n",
    "  \n",
    "# getting the name of the directory\n",
    "# where the this file is present.\n",
    "current = os.path.abspath('')\n",
    "# Getting the parent directory name\n",
    "# where the current directory is present.\n",
    "parent = os.path.dirname(current)\n",
    "sys.path.append(parent)\n",
    "from parameters import *\n",
    "# from tests import *"
   ]
  },
  {
   "cell_type": "markdown",
   "metadata": {},
   "source": [
    "### Generate regular random input for each matrix of size between 2 -- 512\n"
   ]
  },
  {
   "cell_type": "code",
   "execution_count": 3,
   "metadata": {},
   "outputs": [],
   "source": [
    "def get_input_range(n):\n",
    "    lower_bound = 0.0000001\n",
    "    upper_bound = round(np.sqrt(2**(53)/n))\n",
    "    input_range = [lower_bound, upper_bound]\n",
    "    return input_range\n",
    "\n",
    "\n",
    "def generate_floatinput(n: int):\n",
    "    input_range = get_input_range(n)\n",
    "    list = np.random.uniform(input_range[0],input_range[1], n*n)\n",
    "    return list.reshape(n,n)\n"
   ]
  },
  {
   "cell_type": "code",
   "execution_count": 14,
   "metadata": {},
   "outputs": [
    {
     "data": {
      "text/plain": [
       "array([123.52309415, 110.31636888, 105.39803405,  83.624562  ,\n",
       "       106.11879244, 121.0805734 , 124.78307939, 121.72263082,\n",
       "        99.52540974,  78.83255852, 110.68243133,  93.33557442,\n",
       "        87.77417186,  79.44852116, 105.03571596,  84.63634504,\n",
       "        79.04525637, 107.02057036,  82.33556663,  80.48188432,\n",
       "        90.30145212,  84.24127295,  98.13828188, 103.77442651,\n",
       "       117.69435065,  84.4123118 ,  88.83730524,  93.33929633,\n",
       "        81.53568445, 101.70872992, 109.40099992, 106.72867972,\n",
       "        97.02955171,  96.61478926,  83.9242247 , 100.68102102,\n",
       "        85.63154394,  99.45446026, 109.66390641, 108.19381002,\n",
       "       122.57264179, 115.16987749,  99.91916205, 116.88617454,\n",
       "       124.00669709, 115.65828163,  82.82753249, 114.75969554,\n",
       "        81.99117541, 120.65609432, 115.28877029, 111.38455069,\n",
       "       107.921845  ,  84.85279711,  98.24249903, 125.22274162,\n",
       "        77.12262955,  88.42581893,  95.44231851, 115.16236478,\n",
       "       118.54427865, 107.64331809,  76.16484968, 115.03736879,\n",
       "       119.74604693, 114.80987633, 114.10278681, 101.21766565,\n",
       "       108.28049238, 119.32385558,  78.04240354,  89.01500445,\n",
       "        87.98099722,  89.27820407,  94.98674505,  83.16284604,\n",
       "       117.88922461,  99.95585433, 116.44623072, 124.64097704,\n",
       "        94.81329076, 124.74445741, 102.16378375,  88.2965656 ,\n",
       "        77.66881835, 101.870393  , 102.3528051 , 103.03159579,\n",
       "        83.12594807,  75.83091742, 109.11425233, 122.47346816,\n",
       "       111.81299737, 110.95849869,  89.47625409,  95.39976937,\n",
       "       122.20699752, 121.8297091 ,  91.94370846, 120.98817231,\n",
       "        86.40253101,  82.76407638,  83.49461834, 123.28351821,\n",
       "       112.00375864,  82.25391588, 109.35308112, 113.05051717,\n",
       "       112.66630806, 100.51434712,  79.67125553, 105.31603692,\n",
       "        95.95486978, 101.71927523, 117.43152408, 105.59611602,\n",
       "        85.97943034, 120.68861378, 104.37020698, 118.61883879,\n",
       "        89.83493561, 101.99717911,  88.88250272, 104.52809489,\n",
       "       107.96624209,  79.23241864, 100.54346552, 112.00025086,\n",
       "        91.99801485, 113.02535566,  76.86408989, 102.12140867,\n",
       "       116.17588477,  84.04351061, 122.29240126,  85.80626682,\n",
       "        92.60031822,  93.64102143,  96.20310862,  79.26926007,\n",
       "       108.76689982,  98.70043411, 107.76864227, 115.82462439,\n",
       "        99.84345576,  92.87003714,  76.65974082, 119.42375515,\n",
       "        98.50050891,  93.65213197,  77.43255119,  81.35662297,\n",
       "       118.18141841,  91.90733444, 109.17195051,  78.65569919,\n",
       "       101.53903514,  99.8001848 , 109.5195665 , 104.46881408,\n",
       "       124.27031218,  80.31789824,  94.89962241,  83.7772136 ,\n",
       "        81.66979665, 110.55253675,  96.96184841,  95.36974576,\n",
       "       124.4467757 , 111.74994646, 113.56633194, 107.49241422,\n",
       "        76.10682026, 112.54870355, 107.99035506, 111.20422251,\n",
       "        87.65609355,  95.36489439,  79.51167165,  89.29573559,\n",
       "        92.21178435, 100.28139581, 120.87234065,  95.70011397,\n",
       "       114.78246018,  75.61452877, 106.77271776,  94.39750606,\n",
       "       114.67998588, 123.6559807 , 125.03573109, 100.17283599,\n",
       "        88.00054985, 100.84650956,  79.49295625, 109.08264678,\n",
       "       111.21332957, 108.17610705,  78.90945479, 106.09143789,\n",
       "       112.4954671 ,  99.34455604, 110.21609891, 123.01480897,\n",
       "        86.09745722,  99.43060163, 119.10310349,  82.25180337,\n",
       "        84.00835601, 113.32566216, 100.58459464,  88.40777939,\n",
       "        81.33801217,  92.07056297,  75.62490699, 117.71158134,\n",
       "        95.45982308,  85.72576893, 122.32512691,  75.6779129 ,\n",
       "       113.38411487, 121.76198499,  94.87403638, 111.60108162,\n",
       "        97.06862605, 112.93391811, 124.08289717,  92.28209497,\n",
       "        79.4488272 , 105.08445818,  87.98657792,  89.04573498,\n",
       "       114.28376073, 102.32144622,  81.93088981,  91.34338237,\n",
       "       103.65595833,  95.43007822, 108.12742097,  87.26239929,\n",
       "        96.44991288, 105.98077304,  80.27610918, 116.55981163,\n",
       "        91.71047357,  83.88739232,  80.94530649,  86.97693695,\n",
       "       105.38513293,  92.63187583,  94.95177678,  89.05134321,\n",
       "        77.24992577, 118.81896509, 118.32897465,  83.44072505])"
      ]
     },
     "execution_count": 14,
     "metadata": {},
     "output_type": "execute_result"
    }
   ],
   "source": [
    "test = get_input_range(256)\n",
    "ar = np.random.uniform(75.5, 125.5, 256)\n"
   ]
  },
  {
   "cell_type": "code",
   "execution_count": 4,
   "metadata": {},
   "outputs": [],
   "source": [
    "n1 = 2\n",
    "A1 = generate_floatinput(n1)\n",
    "B1 = generate_floatinput(n1)\n",
    "\n",
    "n2 = 4\n",
    "A2 = generate_floatinput(n2)\n",
    "B2 = generate_floatinput(n2)\n",
    "\n",
    "n3 = 8\n",
    "A3 = generate_floatinput(n3)\n",
    "B3 = generate_floatinput(n3)\n",
    "\n",
    "n4 = 16\n",
    "A4 = generate_floatinput(n4)\n",
    "B4 = generate_floatinput(n4)\n",
    "\n",
    "n5 = 32\n",
    "A5 = generate_floatinput(n5)\n",
    "B5 = generate_floatinput(n5)\n",
    "\n",
    "n6 = 64\n",
    "A6 = generate_floatinput(n6)\n",
    "B6 = generate_floatinput(n6)\n",
    "\n",
    "n7 = 128\n",
    "A7 = generate_floatinput(n7)\n",
    "B7 = generate_floatinput(n7)\n",
    "\n",
    "n8 = 256\n",
    "A8 = generate_floatinput(n8)\n",
    "B8 = generate_floatinput(n8)\n",
    "\n",
    "n9 = 512\n",
    "A9 = generate_floatinput(n9)\n",
    "B9 = generate_floatinput(n9)"
   ]
  },
  {
   "cell_type": "code",
   "execution_count": 5,
   "metadata": {},
   "outputs": [],
   "source": [
    "C1expected = np.matmul(A1,B1)\n",
    "C2expected = np.matmul(A2,B2)\n",
    "C3expected = np.matmul(A3,B3)\n",
    "C4expected = np.matmul(A4,B4)\n",
    "C5expected = np.matmul(A5,B5)\n",
    "C6expected = np.matmul(A6,B6)\n",
    "C7expected = np.matmul(A7,B7)\n",
    "C8expected = np.matmul(A8,B8)\n",
    "C9expected = np.matmul(A9,B9)"
   ]
  },
  {
   "cell_type": "markdown",
   "metadata": {},
   "source": [
    "## Elementary matrix multiplication\n",
    "### Calculate the result of elementary matrix multiplication and the expected result using numpy matmul method"
   ]
  },
  {
   "cell_type": "code",
   "execution_count": 6,
   "metadata": {},
   "outputs": [],
   "source": [
    "C1elementary = (elementary_multiplication(Matrix(n1,n1, A1), Matrix(n1,n1,B1))).tolist()\n",
    "\n",
    "\n",
    "C2elementary = (elementary_multiplication(Matrix(n2,n2, A2), Matrix(n2,n2,B2))).tolist()\n",
    "\n",
    "\n",
    "C3elementary = (elementary_multiplication(Matrix(n3,n3, A3), Matrix(n3,n3,B3))).tolist()\n",
    "\n",
    "\n",
    "C4elementary = (elementary_multiplication(Matrix(n4,n4, A4), Matrix(n4,n4,B4))).tolist()\n",
    "\n",
    "\n",
    "C5elementary = (elementary_multiplication(Matrix(n5,n5, A5), Matrix(n5,n5,B5))).tolist()\n",
    "\n",
    "\n",
    "C6elementary = (elementary_multiplication(Matrix(n6,n6, A6), Matrix(n6,n6,B6))).tolist()\n",
    "\n",
    "\n",
    "C7elementary = (elementary_multiplication(Matrix(n7,n7, A7), Matrix(n7,n7,B7))).tolist()\n",
    "\n",
    "C8elementary = (elementary_multiplication(Matrix(n8,n8, A8), Matrix(n8,n8,B8))).tolist()\n",
    "\n",
    "\n",
    "C9elementary = (elementary_multiplication(Matrix(n9,n9, A9), Matrix(n9,n9,B9))).tolist()\n"
   ]
  },
  {
   "cell_type": "markdown",
   "metadata": {},
   "source": [
    "### Testing blocks to compare the expected output against the actual one"
   ]
  },
  {
   "cell_type": "code",
   "execution_count": 7,
   "metadata": {},
   "outputs": [
    {
     "name": "stdout",
     "output_type": "stream",
     "text": [
      "None\n"
     ]
    }
   ],
   "source": [
    "print(np.testing.assert_allclose(C1elementary,C1expected))"
   ]
  },
  {
   "cell_type": "code",
   "execution_count": 8,
   "metadata": {},
   "outputs": [
    {
     "name": "stdout",
     "output_type": "stream",
     "text": [
      "None\n"
     ]
    }
   ],
   "source": [
    "print(np.testing.assert_allclose(C2elementary,C2expected))"
   ]
  },
  {
   "cell_type": "code",
   "execution_count": 10,
   "metadata": {},
   "outputs": [
    {
     "name": "stdout",
     "output_type": "stream",
     "text": [
      "None\n"
     ]
    }
   ],
   "source": [
    "print(np.testing.assert_allclose(C2elementary,C2expected))"
   ]
  },
  {
   "cell_type": "code",
   "execution_count": 11,
   "metadata": {},
   "outputs": [
    {
     "name": "stdout",
     "output_type": "stream",
     "text": [
      "None\n"
     ]
    }
   ],
   "source": [
    "print(np.testing.assert_allclose(C3elementary,C3expected))"
   ]
  },
  {
   "cell_type": "code",
   "execution_count": 12,
   "metadata": {},
   "outputs": [
    {
     "name": "stdout",
     "output_type": "stream",
     "text": [
      "None\n"
     ]
    }
   ],
   "source": [
    "print(np.testing.assert_allclose(C4elementary,C4expected))"
   ]
  },
  {
   "cell_type": "code",
   "execution_count": 13,
   "metadata": {},
   "outputs": [
    {
     "name": "stdout",
     "output_type": "stream",
     "text": [
      "None\n"
     ]
    }
   ],
   "source": [
    "print(np.testing.assert_allclose(C5elementary,C5expected))"
   ]
  },
  {
   "cell_type": "code",
   "execution_count": 14,
   "metadata": {},
   "outputs": [
    {
     "name": "stdout",
     "output_type": "stream",
     "text": [
      "None\n"
     ]
    }
   ],
   "source": [
    "print(np.testing.assert_allclose(C6elementary,C6expected))"
   ]
  },
  {
   "cell_type": "code",
   "execution_count": 15,
   "metadata": {},
   "outputs": [
    {
     "name": "stdout",
     "output_type": "stream",
     "text": [
      "None\n"
     ]
    }
   ],
   "source": [
    "print(np.testing.assert_allclose(C7elementary,C7expected))"
   ]
  },
  {
   "cell_type": "code",
   "execution_count": 16,
   "metadata": {},
   "outputs": [
    {
     "name": "stdout",
     "output_type": "stream",
     "text": [
      "None\n"
     ]
    }
   ],
   "source": [
    "print(np.testing.assert_allclose(C8elementary,C8expected))"
   ]
  },
  {
   "cell_type": "code",
   "execution_count": 17,
   "metadata": {},
   "outputs": [
    {
     "name": "stdout",
     "output_type": "stream",
     "text": [
      "None\n"
     ]
    }
   ],
   "source": [
    "print(np.testing.assert_allclose(C9elementary,C9expected))"
   ]
  },
  {
   "cell_type": "markdown",
   "metadata": {},
   "source": [
    "### Generate the transposed B matrix for elementary multiplication assuming the second operand transposed"
   ]
  },
  {
   "cell_type": "code",
   "execution_count": 9,
   "metadata": {},
   "outputs": [],
   "source": [
    "\n",
    "B1t = copy.deepcopy(B1)\n",
    "transpose(Matrix(n1,n1,B1t))\n",
    "\n",
    "B2t = copy.deepcopy(B2)\n",
    "transpose(Matrix(n2,n2,B2t))\n",
    "\n",
    "B3t = copy.deepcopy(B3)\n",
    "transpose(Matrix(n3,n3,B3t))\n",
    "\n",
    "B4t = copy.deepcopy(B4)\n",
    "transpose(Matrix(n4,n4,B4t))\n",
    "\n",
    "B5t = copy.deepcopy(B5)\n",
    "transpose(Matrix(n5,n5,B5t))\n",
    "\n",
    "B6t = copy.deepcopy(B6)\n",
    "transpose(Matrix(n6,n6,B6t))\n",
    "\n",
    "B7t = copy.deepcopy(B7)\n",
    "transpose(Matrix(n7,n7,B7t))\n",
    "\n",
    "B8t = copy.deepcopy(B8)\n",
    "transpose(Matrix(n8,n8,B8t))\n",
    "\n",
    "B9t = copy.deepcopy(B9)\n",
    "transpose(Matrix(n9,n9,B9t))"
   ]
  },
  {
   "cell_type": "markdown",
   "metadata": {},
   "source": [
    "## Elementary transposed matrix multiplication\n",
    "### Calculate the results using the implementation"
   ]
  },
  {
   "cell_type": "code",
   "execution_count": 10,
   "metadata": {},
   "outputs": [],
   "source": [
    "C1elementarytransposed = (elementary_multiplication_transposed(Matrix(n1,n1, A1), Matrix(n1,n1,B1t))).tolist()\n",
    "C2elementarytransposed = (elementary_multiplication_transposed(Matrix(n2,n2, A2), Matrix(n2,n2,B2t))).tolist()\n",
    "C3elementarytransposed = (elementary_multiplication_transposed(Matrix(n3,n3, A3), Matrix(n3,n3,B3t))).tolist()\n",
    "C4elementarytransposed = (elementary_multiplication_transposed(Matrix(n4,n4, A4), Matrix(n4,n4,B4t))).tolist()\n",
    "C5elementarytransposed = (elementary_multiplication_transposed(Matrix(n5,n5, A5), Matrix(n5,n5,B5t))).tolist()\n",
    "C6elementarytransposed = (elementary_multiplication_transposed(Matrix(n6,n6, A6), Matrix(n6,n6,B6t))).tolist()\n",
    "C7elementarytransposed = (elementary_multiplication_transposed(Matrix(n7,n7, A7), Matrix(n7,n7,B7t))).tolist()\n",
    "C8elementarytransposed = (elementary_multiplication_transposed(Matrix(n8,n8, A8), Matrix(n8,n8,B8t))).tolist()\n",
    "C9elementarytransposed = (elementary_multiplication_transposed(Matrix(n9,n9, A9), Matrix(n9,n9,B9t))).tolist()"
   ]
  },
  {
   "cell_type": "markdown",
   "metadata": {},
   "source": [
    "### Testing blocks to compare the expected output against the actual one"
   ]
  },
  {
   "cell_type": "code",
   "execution_count": 11,
   "metadata": {},
   "outputs": [
    {
     "name": "stdout",
     "output_type": "stream",
     "text": [
      "None\n"
     ]
    }
   ],
   "source": [
    "print(np.testing.assert_allclose(C1elementarytransposed,C1expected))"
   ]
  },
  {
   "cell_type": "code",
   "execution_count": 12,
   "metadata": {},
   "outputs": [
    {
     "name": "stdout",
     "output_type": "stream",
     "text": [
      "None\n"
     ]
    }
   ],
   "source": [
    "print(np.testing.assert_allclose(C2elementarytransposed,C2expected))"
   ]
  },
  {
   "cell_type": "code",
   "execution_count": 22,
   "metadata": {},
   "outputs": [
    {
     "name": "stdout",
     "output_type": "stream",
     "text": [
      "None\n"
     ]
    }
   ],
   "source": [
    "print(np.testing.assert_allclose(C3elementarytransposed,C3expected))"
   ]
  },
  {
   "cell_type": "code",
   "execution_count": 23,
   "metadata": {},
   "outputs": [
    {
     "name": "stdout",
     "output_type": "stream",
     "text": [
      "None\n"
     ]
    }
   ],
   "source": [
    "print(np.testing.assert_allclose(C4elementarytransposed,C4expected))"
   ]
  },
  {
   "cell_type": "code",
   "execution_count": 24,
   "metadata": {},
   "outputs": [
    {
     "name": "stdout",
     "output_type": "stream",
     "text": [
      "None\n"
     ]
    }
   ],
   "source": [
    "print(np.testing.assert_allclose(C5elementarytransposed,C5expected))"
   ]
  },
  {
   "cell_type": "code",
   "execution_count": 25,
   "metadata": {},
   "outputs": [
    {
     "name": "stdout",
     "output_type": "stream",
     "text": [
      "None\n"
     ]
    }
   ],
   "source": [
    "print(np.testing.assert_allclose(C6elementarytransposed,C6expected))"
   ]
  },
  {
   "cell_type": "code",
   "execution_count": 26,
   "metadata": {},
   "outputs": [
    {
     "name": "stdout",
     "output_type": "stream",
     "text": [
      "None\n"
     ]
    }
   ],
   "source": [
    "print(np.testing.assert_allclose(C7elementarytransposed,C7expected))"
   ]
  },
  {
   "cell_type": "code",
   "execution_count": 27,
   "metadata": {},
   "outputs": [
    {
     "name": "stdout",
     "output_type": "stream",
     "text": [
      "None\n"
     ]
    }
   ],
   "source": [
    "print(np.testing.assert_allclose(C8elementarytransposed,C8expected))"
   ]
  },
  {
   "cell_type": "code",
   "execution_count": 28,
   "metadata": {},
   "outputs": [
    {
     "name": "stdout",
     "output_type": "stream",
     "text": [
      "None\n"
     ]
    }
   ],
   "source": [
    "print(np.testing.assert_allclose(C9elementarytransposed,C9expected))"
   ]
  },
  {
   "cell_type": "markdown",
   "metadata": {},
   "source": [
    "## Tiled results"
   ]
  },
  {
   "cell_type": "code",
   "execution_count": 29,
   "metadata": {},
   "outputs": [],
   "source": [
    "C1tiled = (tiled_multiplication(Matrix(n1,n1, A1), Matrix(n1,n1,B1),1)).tolist()\n",
    "C2tiled = (tiled_multiplication(Matrix(n2,n2, A2), Matrix(n2,n2,B2),2)).tolist()\n",
    "C3tiled = (tiled_multiplication(Matrix(n3,n3, A3), Matrix(n3,n3,B3),4)).tolist()\n",
    "C4tiled = (tiled_multiplication(Matrix(n4,n4, A4), Matrix(n4,n4,B4),8)).tolist()\n",
    "C5tiled = (tiled_multiplication(Matrix(n5,n5, A5), Matrix(n5,n5,B5),16)).tolist()\n",
    "C6tiled = (tiled_multiplication(Matrix(n6,n6, A6), Matrix(n6,n6,B6),32)).tolist()\n",
    "\n",
    "C7tiled2 = (tiled_multiplication(Matrix(n7,n7, A7), Matrix(n7,n7,B7),2)).tolist()\n",
    "C7tiled4 = (tiled_multiplication(Matrix(n7,n7, A7), Matrix(n7,n7,B7),4)).tolist()\n",
    "C7tiled8 = (tiled_multiplication(Matrix(n7,n7, A7), Matrix(n7,n7,B7),8)).tolist()\n",
    "C7tiled16 = (tiled_multiplication(Matrix(n7,n7, A7), Matrix(n7,n7,B7),16)).tolist()\n",
    "C7tiled32 = (tiled_multiplication(Matrix(n7,n7, A7), Matrix(n7,n7,B7),32)).tolist()\n",
    "C7tiled64 = (tiled_multiplication(Matrix(n7,n7, A7), Matrix(n7,n7,B7),64)).tolist()\n",
    "\n",
    "\n",
    "C8tiled = (tiled_multiplication(Matrix(n8,n8, A8), Matrix(n8,n8,B8),128)).tolist()\n",
    "C9tiled = (tiled_multiplication(Matrix(n9,n9, A9), Matrix(n9,n9,B9),512)).tolist()"
   ]
  },
  {
   "cell_type": "markdown",
   "metadata": {},
   "source": [
    "## Tiled tests"
   ]
  },
  {
   "cell_type": "code",
   "execution_count": 30,
   "metadata": {},
   "outputs": [
    {
     "name": "stdout",
     "output_type": "stream",
     "text": [
      "None\n"
     ]
    }
   ],
   "source": [
    "print(np.testing.assert_allclose(C1tiled,C1expected))"
   ]
  },
  {
   "cell_type": "code",
   "execution_count": 31,
   "metadata": {},
   "outputs": [
    {
     "name": "stdout",
     "output_type": "stream",
     "text": [
      "None\n"
     ]
    }
   ],
   "source": [
    "print(np.testing.assert_allclose(C2tiled,C2expected))"
   ]
  },
  {
   "cell_type": "code",
   "execution_count": 32,
   "metadata": {},
   "outputs": [
    {
     "name": "stdout",
     "output_type": "stream",
     "text": [
      "None\n"
     ]
    }
   ],
   "source": [
    "print(np.testing.assert_allclose(C3tiled,C3expected))"
   ]
  },
  {
   "cell_type": "code",
   "execution_count": 33,
   "metadata": {},
   "outputs": [
    {
     "name": "stdout",
     "output_type": "stream",
     "text": [
      "None\n"
     ]
    }
   ],
   "source": [
    "print(np.testing.assert_allclose(C4tiled,C4expected))"
   ]
  },
  {
   "cell_type": "code",
   "execution_count": 34,
   "metadata": {},
   "outputs": [
    {
     "name": "stdout",
     "output_type": "stream",
     "text": [
      "None\n"
     ]
    }
   ],
   "source": [
    "print(np.testing.assert_allclose(C5tiled,C5expected))"
   ]
  },
  {
   "cell_type": "code",
   "execution_count": 35,
   "metadata": {},
   "outputs": [
    {
     "name": "stdout",
     "output_type": "stream",
     "text": [
      "None\n"
     ]
    }
   ],
   "source": [
    "print(np.testing.assert_allclose(C6tiled,C6expected))"
   ]
  },
  {
   "cell_type": "code",
   "execution_count": 36,
   "metadata": {},
   "outputs": [
    {
     "name": "stdout",
     "output_type": "stream",
     "text": [
      "None\n"
     ]
    }
   ],
   "source": [
    "print(np.testing.assert_allclose(C7tiled2,C7expected))"
   ]
  },
  {
   "cell_type": "code",
   "execution_count": 37,
   "metadata": {},
   "outputs": [
    {
     "name": "stdout",
     "output_type": "stream",
     "text": [
      "None\n"
     ]
    }
   ],
   "source": [
    "print(np.testing.assert_allclose(C7tiled4,C7expected))"
   ]
  },
  {
   "cell_type": "code",
   "execution_count": 38,
   "metadata": {},
   "outputs": [
    {
     "name": "stdout",
     "output_type": "stream",
     "text": [
      "None\n"
     ]
    }
   ],
   "source": [
    "print(np.testing.assert_allclose(C7tiled8,C7expected))"
   ]
  },
  {
   "cell_type": "code",
   "execution_count": 39,
   "metadata": {},
   "outputs": [
    {
     "name": "stdout",
     "output_type": "stream",
     "text": [
      "None\n"
     ]
    }
   ],
   "source": [
    "print(np.testing.assert_allclose(C7tiled16,C7expected))"
   ]
  },
  {
   "cell_type": "code",
   "execution_count": 40,
   "metadata": {},
   "outputs": [
    {
     "name": "stdout",
     "output_type": "stream",
     "text": [
      "None\n"
     ]
    }
   ],
   "source": [
    "print(np.testing.assert_allclose(C7tiled32,C7expected))"
   ]
  },
  {
   "cell_type": "code",
   "execution_count": 41,
   "metadata": {},
   "outputs": [
    {
     "name": "stdout",
     "output_type": "stream",
     "text": [
      "None\n"
     ]
    }
   ],
   "source": [
    "print(np.testing.assert_allclose(C7tiled64,C7expected))"
   ]
  },
  {
   "cell_type": "code",
   "execution_count": 42,
   "metadata": {},
   "outputs": [
    {
     "name": "stdout",
     "output_type": "stream",
     "text": [
      "None\n"
     ]
    }
   ],
   "source": [
    "print(np.testing.assert_allclose(C8tiled,C8expected))"
   ]
  },
  {
   "cell_type": "code",
   "execution_count": 43,
   "metadata": {},
   "outputs": [
    {
     "name": "stdout",
     "output_type": "stream",
     "text": [
      "None\n"
     ]
    }
   ],
   "source": [
    "print(np.testing.assert_allclose(C9tiled,C9expected))"
   ]
  },
  {
   "cell_type": "markdown",
   "metadata": {},
   "source": [
    "## Recursive copying results"
   ]
  },
  {
   "cell_type": "code",
   "execution_count": 44,
   "metadata": {},
   "outputs": [],
   "source": [
    "C1copying = (recursive_multiplication_copying(Matrix(n1,n1, A1), Matrix(n1,n1,B1))).tolist()\n",
    "\n",
    "C2copying = (recursive_multiplication_copying(Matrix(n2,n2, A2), Matrix(n2,n2,B2))).tolist()\n",
    "\n",
    "C3copying = (recursive_multiplication_copying(Matrix(n3,n3, A3), Matrix(n3,n3,B3))).tolist()\n",
    "\n",
    "C4copying = (recursive_multiplication_copying(Matrix(n4,n4, A4), Matrix(n4,n4,B4))).tolist()\n",
    "\n",
    "C5copying = (recursive_multiplication_copying(Matrix(n5,n5, A5), Matrix(n5,n5,B5))).tolist()\n",
    "\n",
    "C6copying = (recursive_multiplication_copying(Matrix(n6,n6, A6), Matrix(n6,n6,B6))).tolist()\n",
    "\n",
    "C7copying = (recursive_multiplication_copying(Matrix(n7,n7, A7), Matrix(n7,n7,B7))).tolist()\n",
    "\n",
    "C8copying = (recursive_multiplication_copying(Matrix(n8,n8, A8), Matrix(n8,n8,B8))).tolist()\n",
    "\n",
    "C9copying = (recursive_multiplication_copying(Matrix(n9,n9, A9), Matrix(n9,n9,B9))).tolist()"
   ]
  },
  {
   "cell_type": "markdown",
   "metadata": {},
   "source": [
    "## Recursive copying tests"
   ]
  },
  {
   "cell_type": "code",
   "execution_count": 45,
   "metadata": {},
   "outputs": [
    {
     "name": "stdout",
     "output_type": "stream",
     "text": [
      "None\n"
     ]
    }
   ],
   "source": [
    "print(np.testing.assert_allclose(C1copying,C1expected))"
   ]
  },
  {
   "cell_type": "code",
   "execution_count": 46,
   "metadata": {},
   "outputs": [
    {
     "name": "stdout",
     "output_type": "stream",
     "text": [
      "None\n"
     ]
    }
   ],
   "source": [
    "print(np.testing.assert_allclose(C2copying,C2expected))"
   ]
  },
  {
   "cell_type": "code",
   "execution_count": 47,
   "metadata": {},
   "outputs": [
    {
     "name": "stdout",
     "output_type": "stream",
     "text": [
      "None\n"
     ]
    }
   ],
   "source": [
    "print(np.testing.assert_allclose(C3copying,C3expected))"
   ]
  },
  {
   "cell_type": "code",
   "execution_count": 48,
   "metadata": {},
   "outputs": [
    {
     "name": "stdout",
     "output_type": "stream",
     "text": [
      "None\n"
     ]
    }
   ],
   "source": [
    "print(np.testing.assert_allclose(C4copying,C4expected))"
   ]
  },
  {
   "cell_type": "code",
   "execution_count": 49,
   "metadata": {},
   "outputs": [
    {
     "name": "stdout",
     "output_type": "stream",
     "text": [
      "None\n"
     ]
    }
   ],
   "source": [
    "print(np.testing.assert_allclose(C5copying,C5expected))"
   ]
  },
  {
   "cell_type": "code",
   "execution_count": 50,
   "metadata": {},
   "outputs": [
    {
     "name": "stdout",
     "output_type": "stream",
     "text": [
      "None\n"
     ]
    }
   ],
   "source": [
    "print(np.testing.assert_allclose(C6copying,C6expected))"
   ]
  },
  {
   "cell_type": "code",
   "execution_count": 51,
   "metadata": {},
   "outputs": [
    {
     "name": "stdout",
     "output_type": "stream",
     "text": [
      "None\n"
     ]
    }
   ],
   "source": [
    "print(np.testing.assert_allclose(C7copying,C7expected))"
   ]
  },
  {
   "cell_type": "code",
   "execution_count": 52,
   "metadata": {},
   "outputs": [
    {
     "name": "stdout",
     "output_type": "stream",
     "text": [
      "None\n"
     ]
    }
   ],
   "source": [
    "print(np.testing.assert_allclose(C8copying,C8expected))"
   ]
  },
  {
   "cell_type": "code",
   "execution_count": 53,
   "metadata": {},
   "outputs": [
    {
     "name": "stdout",
     "output_type": "stream",
     "text": [
      "None\n"
     ]
    }
   ],
   "source": [
    "print(np.testing.assert_allclose(C9copying,C9expected))"
   ]
  },
  {
   "cell_type": "markdown",
   "metadata": {},
   "source": [
    "## Generate empty C Matrix for recursive write-through implementation"
   ]
  },
  {
   "cell_type": "code",
   "execution_count": 54,
   "metadata": {},
   "outputs": [],
   "source": [
    "C1 = Matrix(n1, n1)\n",
    "C2 = Matrix(n2, n2)\n",
    "C3 = Matrix(n3, n3)\n",
    "C4 = Matrix(n4, n4)\n",
    "C5 = Matrix(n5, n5)\n",
    "C6 = Matrix(n6, n6)\n",
    "C7 = Matrix(n7, n7)\n",
    "C8 = Matrix(n8, n8)\n",
    "C9 = Matrix(n9, n9)"
   ]
  },
  {
   "cell_type": "markdown",
   "metadata": {},
   "source": [
    "## Recursive write-through results\n"
   ]
  },
  {
   "cell_type": "code",
   "execution_count": 56,
   "metadata": {},
   "outputs": [],
   "source": [
    "C1write_through = (recursive_multiplication_write_through(Matrix(n1,n1, A1), Matrix(n1,n1,B1), C1)).tolist()\n",
    "\n",
    "C2write_through = (recursive_multiplication_write_through(Matrix(n2,n2, A2), Matrix(n2,n2,B2), C2)).tolist()\n",
    "\n",
    "C3write_through = (recursive_multiplication_write_through(Matrix(n3,n3, A3), Matrix(n3,n3,B3), C3)).tolist()\n",
    "\n",
    "C4write_through = (recursive_multiplication_write_through(Matrix(n4,n4, A4), Matrix(n4,n4,B4), C4)).tolist()\n",
    "\n",
    "C5write_through = (recursive_multiplication_write_through(Matrix(n5,n5, A5), Matrix(n5,n5,B5), C5)).tolist()\n",
    "\n",
    "C6write_through = (recursive_multiplication_write_through(Matrix(n6,n6, A6), Matrix(n6,n6,B6), C6)).tolist()\n",
    "\n",
    "C7write_through = (recursive_multiplication_write_through(Matrix(n7,n7, A7), Matrix(n7,n7,B7), C7)).tolist()\n",
    "\n",
    "C8write_through = (recursive_multiplication_write_through(Matrix(n8,n8, A8), Matrix(n8,n8,B8), C8)).tolist()\n",
    "\n",
    "C9write_through = (recursive_multiplication_write_through(Matrix(n9,n9, A9), Matrix(n9,n9,B9), C9)).tolist()"
   ]
  },
  {
   "cell_type": "markdown",
   "metadata": {},
   "source": [
    "## Recursive write-through results"
   ]
  },
  {
   "cell_type": "code",
   "execution_count": null,
   "metadata": {},
   "outputs": [
    {
     "name": "stdout",
     "output_type": "stream",
     "text": [
      "None\n"
     ]
    }
   ],
   "source": [
    "print(np.testing.assert_allclose(C1write_through,C1expected))"
   ]
  },
  {
   "cell_type": "code",
   "execution_count": null,
   "metadata": {},
   "outputs": [
    {
     "name": "stdout",
     "output_type": "stream",
     "text": [
      "None\n"
     ]
    }
   ],
   "source": [
    "print(np.testing.assert_allclose(C2write_through,C2expected))"
   ]
  },
  {
   "cell_type": "code",
   "execution_count": null,
   "metadata": {},
   "outputs": [
    {
     "name": "stdout",
     "output_type": "stream",
     "text": [
      "None\n"
     ]
    }
   ],
   "source": [
    "print(np.testing.assert_allclose(C3write_through,C3expected))"
   ]
  },
  {
   "cell_type": "code",
   "execution_count": null,
   "metadata": {},
   "outputs": [
    {
     "name": "stdout",
     "output_type": "stream",
     "text": [
      "None\n"
     ]
    }
   ],
   "source": [
    "print(np.testing.assert_allclose(C4write_through,C4expected))"
   ]
  },
  {
   "cell_type": "code",
   "execution_count": null,
   "metadata": {},
   "outputs": [
    {
     "name": "stdout",
     "output_type": "stream",
     "text": [
      "None\n"
     ]
    }
   ],
   "source": [
    "print(np.testing.assert_allclose(C5write_through,C5expected))"
   ]
  },
  {
   "cell_type": "code",
   "execution_count": null,
   "metadata": {},
   "outputs": [
    {
     "name": "stdout",
     "output_type": "stream",
     "text": [
      "None\n"
     ]
    }
   ],
   "source": [
    "print(np.testing.assert_allclose(C6write_through,C6expected))"
   ]
  },
  {
   "cell_type": "code",
   "execution_count": null,
   "metadata": {},
   "outputs": [
    {
     "name": "stdout",
     "output_type": "stream",
     "text": [
      "None\n"
     ]
    }
   ],
   "source": [
    "print(np.testing.assert_allclose(C7write_through,C7expected))"
   ]
  },
  {
   "cell_type": "code",
   "execution_count": null,
   "metadata": {},
   "outputs": [
    {
     "name": "stdout",
     "output_type": "stream",
     "text": [
      "None\n"
     ]
    }
   ],
   "source": [
    "print(np.testing.assert_allclose(C8write_through,C8expected))"
   ]
  },
  {
   "cell_type": "code",
   "execution_count": null,
   "metadata": {},
   "outputs": [
    {
     "name": "stdout",
     "output_type": "stream",
     "text": [
      "None\n"
     ]
    }
   ],
   "source": [
    "print(np.testing.assert_allclose(C9write_through,C9expected))"
   ]
  },
  {
   "cell_type": "markdown",
   "metadata": {},
   "source": [
    "## Strassen results"
   ]
  },
  {
   "cell_type": "code",
   "execution_count": null,
   "metadata": {},
   "outputs": [],
   "source": [
    "C1strassen = (strassen(Matrix(n1,n1, A1), Matrix(n1,n1,B1))).tolist()\n",
    "\n",
    "C2strassen = (strassen(Matrix(n2,n2, A2), Matrix(n2,n2,B2))).tolist()\n",
    "\n",
    "C3strassen = (strassen(Matrix(n3,n3, A3), Matrix(n3,n3,B3))).tolist()\n",
    "\n",
    "C4strassen = (strassen(Matrix(n4,n4, A4), Matrix(n4,n4,B4))).tolist()\n",
    "\n",
    "C5strassen = (strassen(Matrix(n5,n5, A5), Matrix(n5,n5,B5))).tolist()\n",
    "\n",
    "C6strassen = (strassen(Matrix(n6,n6, A6), Matrix(n6,n6,B6))).tolist()\n",
    "\n",
    "C7strassen = (strassen(Matrix(n7,n7, A7), Matrix(n7,n7,B7))).tolist()\n",
    "\n",
    "C8strassen = (strassen(Matrix(n8,n8, A8), Matrix(n8,n8,B8))).tolist()\n",
    "\n",
    "C9strassen = (strassen(Matrix(n9,n9, A9), Matrix(n9,n9,B9))).tolist()"
   ]
  },
  {
   "cell_type": "code",
   "execution_count": null,
   "metadata": {},
   "outputs": [
    {
     "name": "stdout",
     "output_type": "stream",
     "text": [
      "None\n"
     ]
    }
   ],
   "source": [
    "print(np.testing.assert_allclose(C1strassen,C1expected))"
   ]
  },
  {
   "cell_type": "code",
   "execution_count": null,
   "metadata": {},
   "outputs": [
    {
     "name": "stdout",
     "output_type": "stream",
     "text": [
      "None\n"
     ]
    }
   ],
   "source": [
    "print(np.testing.assert_allclose(C2strassen,C2expected))"
   ]
  },
  {
   "cell_type": "code",
   "execution_count": null,
   "metadata": {},
   "outputs": [
    {
     "name": "stdout",
     "output_type": "stream",
     "text": [
      "None\n"
     ]
    }
   ],
   "source": [
    "print(np.testing.assert_allclose(C3strassen,C3expected))"
   ]
  },
  {
   "cell_type": "code",
   "execution_count": null,
   "metadata": {},
   "outputs": [
    {
     "name": "stdout",
     "output_type": "stream",
     "text": [
      "None\n"
     ]
    }
   ],
   "source": [
    "print(np.testing.assert_allclose(C4strassen,C4expected))"
   ]
  },
  {
   "cell_type": "code",
   "execution_count": null,
   "metadata": {},
   "outputs": [
    {
     "name": "stdout",
     "output_type": "stream",
     "text": [
      "None\n"
     ]
    }
   ],
   "source": [
    "print(np.testing.assert_allclose(C5strassen,C5expected))"
   ]
  },
  {
   "cell_type": "code",
   "execution_count": null,
   "metadata": {},
   "outputs": [
    {
     "name": "stdout",
     "output_type": "stream",
     "text": [
      "None\n"
     ]
    }
   ],
   "source": [
    "print(np.testing.assert_allclose(C6strassen,C6expected))"
   ]
  },
  {
   "cell_type": "code",
   "execution_count": null,
   "metadata": {},
   "outputs": [
    {
     "name": "stdout",
     "output_type": "stream",
     "text": [
      "None\n"
     ]
    }
   ],
   "source": [
    "print(np.testing.assert_allclose(C7strassen,C7expected))"
   ]
  },
  {
   "cell_type": "code",
   "execution_count": null,
   "metadata": {},
   "outputs": [
    {
     "name": "stdout",
     "output_type": "stream",
     "text": [
      "None\n"
     ]
    }
   ],
   "source": [
    "print(np.testing.assert_allclose(C8strassen,C8expected))"
   ]
  },
  {
   "cell_type": "code",
   "execution_count": null,
   "metadata": {},
   "outputs": [
    {
     "name": "stdout",
     "output_type": "stream",
     "text": [
      "None\n"
     ]
    }
   ],
   "source": [
    "print(np.testing.assert_allclose(C9strassen,C9expected))"
   ]
  }
 ],
 "metadata": {
  "interpreter": {
   "hash": "31f2aee4e71d21fbe5cf8b01ff0e069b9275f58929596ceb00d14d90e3e16cd6"
  },
  "kernelspec": {
   "display_name": "Python 3.7.5 64-bit",
   "language": "python",
   "name": "python3"
  },
  "language_info": {
   "codemirror_mode": {
    "name": "ipython",
    "version": 3
   },
   "file_extension": ".py",
   "mimetype": "text/x-python",
   "name": "python",
   "nbconvert_exporter": "python",
   "pygments_lexer": "ipython3",
   "version": "3.7.5"
  },
  "orig_nbformat": 4
 },
 "nbformat": 4,
 "nbformat_minor": 2
}

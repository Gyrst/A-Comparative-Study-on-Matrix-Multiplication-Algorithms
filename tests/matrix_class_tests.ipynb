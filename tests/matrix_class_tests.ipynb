{
 "cells": [
  {
   "cell_type": "code",
   "execution_count": 1,
   "metadata": {},
   "outputs": [],
   "source": [
    "import sys\n",
    "import os\n",
    "  \n",
    "# getting the name of the directory\n",
    "# where the this file is present.\n",
    "current = os.path.abspath('')\n",
    "# Getting the parent directory name\n",
    "# where the current directory is present.\n",
    "parent = os.path.dirname(current)\n",
    "sys.path.append(parent)\n",
    "from parameters import *\n"
   ]
  },
  {
   "cell_type": "code",
   "execution_count": 2,
   "metadata": {},
   "outputs": [],
   "source": [
    "def get_input_range(n):\n",
    "    lower_bound = 0\n",
    "    upper_bound = round(np.sqrt(2**(53)/n))\n",
    "    input_range = [lower_bound, upper_bound]\n",
    "    return input_range\n",
    "\n",
    "\n",
    "def generate_input(n: int) -> List[float]:\n",
    "    list = []\n",
    "    input_range = get_input_range(n)\n",
    "    for i in range(0,n*n):\n",
    "        l = random.randint(input_range[0],int(input_range[1]))\n",
    "        list.append(float(l))\n",
    "    return np.array(list).reshape(n,n)"
   ]
  },
  {
   "cell_type": "code",
   "execution_count": 6,
   "metadata": {},
   "outputs": [],
   "source": [
    "n1 = 2\n",
    "A1 = generate_input(n1)\n",
    "A11 = copy.deepcopy(A1)\n",
    "B1 = copy.deepcopy(A1)\n",
    "\n",
    "n2 = 4\n",
    "A2 = generate_input(n2)\n",
    "A21 = copy.deepcopy(A2)\n",
    "B2 = copy.deepcopy(A2)\n",
    "\n",
    "n3 = 8\n",
    "A3 = generate_input(n3)\n",
    "A31 = copy.deepcopy(A3)\n",
    "B3 =  copy.deepcopy(A3)\n",
    "\n",
    "n4 = 16\n",
    "A4 = generate_input(n4)\n",
    "A41 =  copy.deepcopy(A4)\n",
    "B4 = copy.deepcopy(A4)\n",
    "\n",
    "n5 = 32\n",
    "A5 = generate_input(n5)\n",
    "A51 =  copy.deepcopy(A5)\n",
    "B5 =  copy.deepcopy(A5)\n",
    "\n",
    "n6 = 64\n",
    "A6 = generate_input(n6)\n",
    "A61 = copy.deepcopy(A6)\n",
    "B6 = copy.deepcopy(A6)\n",
    "\n",
    "n7 = 128\n",
    "A7 = generate_input(n7)\n",
    "A71 = copy.deepcopy(A7)\n",
    "B7 = copy.deepcopy(A7)\n",
    "\n",
    "n8 = 256\n",
    "A8 = generate_input(n8)\n",
    "A81 = copy.deepcopy(A8)\n",
    "B8 = copy.deepcopy(A8)\n",
    "\n",
    "n9 = 512\n",
    "A9 = generate_input(n9)\n",
    "A91 = copy.deepcopy(A9)\n",
    "B9 = copy.deepcopy(A9)\n"
   ]
  },
  {
   "cell_type": "code",
   "execution_count": 7,
   "metadata": {},
   "outputs": [],
   "source": [
    "A11 = np.transpose(A1)\n",
    "A21 = np.transpose(A2)\n",
    "A31 = np.transpose(A3)\n",
    "A41 = np.transpose(A4)\n",
    "A51 = np.transpose(A5)\n",
    "A61 = np.transpose(A6)\n",
    "A71 = np.transpose(A7)\n",
    "A81 = np.transpose(A8)\n",
    "A91 = np.transpose(A9)\n",
    "\n",
    "transpose(Matrix(n1,n1,B1))\n",
    "transpose(Matrix(n2,n2,B2))\n",
    "transpose(Matrix(n3,n3,B3))\n",
    "transpose(Matrix(n4,n4,B4))\n",
    "transpose(Matrix(n5,n5,B5))\n",
    "transpose(Matrix(n6,n6,B6))\n",
    "transpose(Matrix(n7,n7,B7))\n",
    "transpose(Matrix(n8,n8,B8))\n",
    "transpose(Matrix(n9,n9,B9))\n"
   ]
  },
  {
   "cell_type": "code",
   "execution_count": 8,
   "metadata": {},
   "outputs": [
    {
     "name": "stdout",
     "output_type": "stream",
     "text": [
      "None\n"
     ]
    }
   ],
   "source": [
    "print(np.testing.assert_array_equal(A11, B1))"
   ]
  },
  {
   "cell_type": "code",
   "execution_count": 10,
   "metadata": {},
   "outputs": [
    {
     "name": "stdout",
     "output_type": "stream",
     "text": [
      "None\n"
     ]
    }
   ],
   "source": [
    "print(np.testing.assert_array_equal(A21, B2))"
   ]
  },
  {
   "cell_type": "code",
   "execution_count": 11,
   "metadata": {},
   "outputs": [
    {
     "name": "stdout",
     "output_type": "stream",
     "text": [
      "None\n"
     ]
    }
   ],
   "source": [
    "print(np.testing.assert_array_equal(A31, B3))"
   ]
  },
  {
   "cell_type": "code",
   "execution_count": 12,
   "metadata": {},
   "outputs": [
    {
     "name": "stdout",
     "output_type": "stream",
     "text": [
      "None\n"
     ]
    }
   ],
   "source": [
    "print(np.testing.assert_array_equal(A41, B4))"
   ]
  },
  {
   "cell_type": "code",
   "execution_count": 13,
   "metadata": {},
   "outputs": [
    {
     "name": "stdout",
     "output_type": "stream",
     "text": [
      "None\n"
     ]
    }
   ],
   "source": [
    "print(np.testing.assert_array_equal(A51, B5))"
   ]
  },
  {
   "cell_type": "code",
   "execution_count": 14,
   "metadata": {},
   "outputs": [
    {
     "name": "stdout",
     "output_type": "stream",
     "text": [
      "None\n"
     ]
    }
   ],
   "source": [
    "print(np.testing.assert_array_equal(A61, B6))"
   ]
  },
  {
   "cell_type": "code",
   "execution_count": 15,
   "metadata": {},
   "outputs": [
    {
     "name": "stdout",
     "output_type": "stream",
     "text": [
      "None\n"
     ]
    }
   ],
   "source": [
    "print(np.testing.assert_array_equal(A71, B7))"
   ]
  },
  {
   "cell_type": "code",
   "execution_count": 16,
   "metadata": {},
   "outputs": [
    {
     "name": "stdout",
     "output_type": "stream",
     "text": [
      "None\n"
     ]
    }
   ],
   "source": [
    "print(np.testing.assert_array_equal(A81, B8))"
   ]
  },
  {
   "cell_type": "code",
   "execution_count": 17,
   "metadata": {},
   "outputs": [
    {
     "name": "stdout",
     "output_type": "stream",
     "text": [
      "None\n"
     ]
    }
   ],
   "source": [
    "print(np.testing.assert_array_equal(A91, B9))"
   ]
  }
 ],
 "metadata": {
  "interpreter": {
   "hash": "31f2aee4e71d21fbe5cf8b01ff0e069b9275f58929596ceb00d14d90e3e16cd6"
  },
  "kernelspec": {
   "display_name": "Python 3.7.5 64-bit",
   "language": "python",
   "name": "python3"
  },
  "language_info": {
   "codemirror_mode": {
    "name": "ipython",
    "version": 3
   },
   "file_extension": ".py",
   "mimetype": "text/x-python",
   "name": "python",
   "nbconvert_exporter": "python",
   "pygments_lexer": "ipython3",
   "version": "3.7.5"
  },
  "orig_nbformat": 4
 },
 "nbformat": 4,
 "nbformat_minor": 2
}
